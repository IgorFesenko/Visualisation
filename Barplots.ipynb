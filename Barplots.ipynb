{
 "cells": [
  {
   "cell_type": "markdown",
   "id": "414cd086",
   "metadata": {},
   "source": [
    "# The example of barplots"
   ]
  },
  {
   "cell_type": "code",
   "execution_count": 1,
   "id": "d0e66c14",
   "metadata": {},
   "outputs": [],
   "source": [
    "import pandas as pd\n",
    "import numpy as np\n",
    "import seaborn as sns\n",
    "from matplotlib import pyplot as plt"
   ]
  },
  {
   "cell_type": "markdown",
   "id": "12cba95a",
   "metadata": {},
   "source": [
    "## Load table"
   ]
  },
  {
   "cell_type": "code",
   "execution_count": 2,
   "id": "1ce56372",
   "metadata": {},
   "outputs": [],
   "source": [
    "df = pd.read_excel(r'/Users/igorfesenko/Yandex Диск/Yandex.Disk.localized/Google_Drive/PEP4/Growth_experiments/PI_Ratio_caulonema_to_chloronema.xlsx')"
   ]
  },
  {
   "cell_type": "code",
   "execution_count": 4,
   "id": "912e4952",
   "metadata": {},
   "outputs": [],
   "source": [
    "df.rename(columns={\"Ratio caulonema to chloronema\":\"Ratio Cau/Chl\"}, inplace=True)"
   ]
  },
  {
   "cell_type": "code",
   "execution_count": 5,
   "id": "ff05d535",
   "metadata": {},
   "outputs": [
    {
     "data": {
      "text/html": [
       "<div>\n",
       "<style scoped>\n",
       "    .dataframe tbody tr th:only-of-type {\n",
       "        vertical-align: middle;\n",
       "    }\n",
       "\n",
       "    .dataframe tbody tr th {\n",
       "        vertical-align: top;\n",
       "    }\n",
       "\n",
       "    .dataframe thead th {\n",
       "        text-align: right;\n",
       "    }\n",
       "</style>\n",
       "<table border=\"1\" class=\"dataframe\">\n",
       "  <thead>\n",
       "    <tr style=\"text-align: right;\">\n",
       "      <th></th>\n",
       "      <th>Ratio Cau/Chl</th>\n",
       "      <th>Genotype</th>\n",
       "    </tr>\n",
       "  </thead>\n",
       "  <tbody>\n",
       "    <tr>\n",
       "      <th>0</th>\n",
       "      <td>1.612121</td>\n",
       "      <td>Wt</td>\n",
       "    </tr>\n",
       "    <tr>\n",
       "      <th>1</th>\n",
       "      <td>1.446429</td>\n",
       "      <td>Wt</td>\n",
       "    </tr>\n",
       "    <tr>\n",
       "      <th>2</th>\n",
       "      <td>1.338843</td>\n",
       "      <td>Wt</td>\n",
       "    </tr>\n",
       "    <tr>\n",
       "      <th>3</th>\n",
       "      <td>3.957447</td>\n",
       "      <td>OE</td>\n",
       "    </tr>\n",
       "    <tr>\n",
       "      <th>4</th>\n",
       "      <td>2.772727</td>\n",
       "      <td>OE</td>\n",
       "    </tr>\n",
       "  </tbody>\n",
       "</table>\n",
       "</div>"
      ],
      "text/plain": [
       "   Ratio Cau/Chl Genotype\n",
       "0       1.612121       Wt\n",
       "1       1.446429       Wt\n",
       "2       1.338843       Wt\n",
       "3       3.957447       OE\n",
       "4       2.772727       OE"
      ]
     },
     "execution_count": 5,
     "metadata": {},
     "output_type": "execute_result"
    }
   ],
   "source": [
    "df.head()"
   ]
  },
  {
   "cell_type": "markdown",
   "id": "904d1056",
   "metadata": {},
   "source": [
    "## Visualisation"
   ]
  },
  {
   "cell_type": "code",
   "execution_count": 15,
   "id": "052626fd",
   "metadata": {},
   "outputs": [
    {
     "data": {
      "image/png": "[encoded data removed]",
      "text/plain": [
       "<Figure size 432x504 with 1 Axes>"
      ]
     },
     "metadata": {},
     "output_type": "display_data"
    }
   ],
   "source": [
    "plt.figure(figsize=[6,7])\n",
    "sns.set(style=\"white\", font_scale=2)\n",
    "\n",
    "g = sns.barplot(data=df, y='Ratio Cau/Chl', x='Genotype', \n",
    "                ci=None, linewidth=2.5, \n",
    "                palette=[\"#dd6e42\",\"#e8dab2\",\"#4f6d7a\"])\n",
    "\n",
    "ax = sns.swarmplot(data=df, y='Ratio Cau/Chl', x='Genotype', \n",
    "                   dodge=True, size=9, palette=[\"#dd6e42\",\"#e8dab2\",\"#4f6d7a\"], \n",
    "                   linewidth=3, edgecolor='gray')\n",
    "\n",
    "plt.ylabel(\"RATIO\", fontweight='bold')\n",
    "\n",
    "plt.xlabel(\"\")\n",
    "labels = ['WT','OE', 'KO']\n",
    "plt.xticks(ticks=np.arange(3), labels=labels)\n",
    "\n",
    "plt.rcParams[\"font.weight\"] = \"bold\";\n",
    "\n",
    "#plt.savefig('./images/Caul_to_Chl.jpeg', dpi=300, bbox_inches='tight');"
   ]
  },
  {
   "cell_type": "code",
   "execution_count": null,
   "id": "293beaf4",
   "metadata": {},
   "outputs": [],
   "source": []
  }
 ],
 "metadata": {
  "kernelspec": {
   "display_name": "Python 3 (ipykernel)",
   "language": "python",
   "name": "python3"
  },
  "language_info": {
   "codemirror_mode": {
    "name": "ipython",
    "version": 3
   },
   "file_extension": ".py",
   "mimetype": "text/x-python",
   "name": "python",
   "nbconvert_exporter": "python",
   "pygments_lexer": "ipython3",
   "version": "3.7.7"
  },
  "toc": {
   "base_numbering": 1,
   "nav_menu": {},
   "number_sections": true,
   "sideBar": true,
   "skip_h1_title": false,
   "title_cell": "Table of Contents",
   "title_sidebar": "Contents",
   "toc_cell": false,
   "toc_position": {},
   "toc_section_display": true,
   "toc_window_display": true
  }
 },
 "nbformat": 4,
 "nbformat_minor": 5
}
