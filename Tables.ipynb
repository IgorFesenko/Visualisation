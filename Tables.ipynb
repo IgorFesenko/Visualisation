{
 "cells": [
  {
   "cell_type": "markdown",
   "id": "dad1fb6c",
   "metadata": {},
   "source": [
    "# Table visualisation"
   ]
  },
  {
   "cell_type": "code",
   "execution_count": 1,
   "id": "0bb44322",
   "metadata": {},
   "outputs": [],
   "source": [
    "import pandas as pd\n",
    "import numpy as np\n",
    "import dataframe_image as dfi"
   ]
  },
  {
   "cell_type": "markdown",
   "id": "da94289b",
   "metadata": {},
   "source": [
    "## Load table"
   ]
  },
  {
   "cell_type": "code",
   "execution_count": 18,
   "id": "8d352864",
   "metadata": {},
   "outputs": [],
   "source": [
    "raw_data = pd.read_csv(r'/Users/igorfesenko/Yandex Диск/Yandex.Disk.localized/Google_Drive/PEP4/Growth_experiments/raw_ratio.csv', sep=';', header=1, usecols=['Type', 'WT', 'OE', 'KO'], index_col='Type')"
   ]
  },
  {
   "cell_type": "code",
   "execution_count": 19,
   "id": "278021f8",
   "metadata": {},
   "outputs": [
    {
     "data": {
      "text/html": [
       "<div>\n",
       "<style scoped>\n",
       "    .dataframe tbody tr th:only-of-type {\n",
       "        vertical-align: middle;\n",
       "    }\n",
       "\n",
       "    .dataframe tbody tr th {\n",
       "        vertical-align: top;\n",
       "    }\n",
       "\n",
       "    .dataframe thead th {\n",
       "        text-align: right;\n",
       "    }\n",
       "</style>\n",
       "<table border=\"1\" class=\"dataframe\">\n",
       "  <thead>\n",
       "    <tr style=\"text-align: right;\">\n",
       "      <th></th>\n",
       "      <th>WT</th>\n",
       "      <th>OE</th>\n",
       "      <th>KO</th>\n",
       "    </tr>\n",
       "    <tr>\n",
       "      <th>Type</th>\n",
       "      <th></th>\n",
       "      <th></th>\n",
       "      <th></th>\n",
       "    </tr>\n",
       "  </thead>\n",
       "  <tbody>\n",
       "    <tr>\n",
       "      <th>Caulonema</th>\n",
       "      <td>590</td>\n",
       "      <td>689</td>\n",
       "      <td>307</td>\n",
       "    </tr>\n",
       "    <tr>\n",
       "      <th>Chloronema</th>\n",
       "      <td>398</td>\n",
       "      <td>209</td>\n",
       "      <td>610</td>\n",
       "    </tr>\n",
       "  </tbody>\n",
       "</table>\n",
       "</div>"
      ],
      "text/plain": [
       "             WT   OE   KO\n",
       "Type                     \n",
       "Caulonema   590  689  307\n",
       "Chloronema  398  209  610"
      ]
     },
     "execution_count": 19,
     "metadata": {},
     "output_type": "execute_result"
    }
   ],
   "source": [
    "raw_data"
   ]
  },
  {
   "cell_type": "markdown",
   "id": "4d0f4144",
   "metadata": {},
   "source": [
    "## Table visualisation"
   ]
  },
  {
   "cell_type": "raw",
   "id": "12b23c8b",
   "metadata": {},
   "source": [
    "https://pandas.pydata.org/docs/user_guide/style.html"
   ]
  },
  {
   "cell_type": "code",
   "execution_count": 20,
   "id": "5b5a5ce9",
   "metadata": {},
   "outputs": [],
   "source": [
    "raw_data.reset_index(inplace=True)"
   ]
  },
  {
   "cell_type": "code",
   "execution_count": 21,
   "id": "f3c02b25",
   "metadata": {},
   "outputs": [],
   "source": [
    "raw_data.rename(columns={\"Type\":\" \"}, inplace=True)"
   ]
  },
  {
   "cell_type": "code",
   "execution_count": 22,
   "id": "c1338273",
   "metadata": {},
   "outputs": [],
   "source": [
    "raw_data.set_index(\" \", inplace=True)"
   ]
  },
  {
   "cell_type": "code",
   "execution_count": 25,
   "id": "a1512d45",
   "metadata": {},
   "outputs": [],
   "source": [
    "heading_properties = [('font-size', '18px')]\n",
    "cell_properties = [('font-size', '14px')]\n",
    "dfstyle = [dict(selector=\"th\", props=heading_properties), dict(selector=\"td\", props=cell_properties)]"
   ]
  },
  {
   "cell_type": "raw",
   "id": "d18452a6",
   "metadata": {},
   "source": [
    "dfstyle = ([\n",
    "    {'selector': 'th.col_heading', 'props': 'text-align: center;'},\n",
    "    {'selector': 'th.col_heading.level0', 'props': 'font-size: 1.5em;'},\n",
    "    {'selector': 'td', 'props': 'text-align: center; font-weight: bold;'}"
   ]
  },
  {
   "cell_type": "code",
   "execution_count": 26,
   "id": "13236cf5",
   "metadata": {},
   "outputs": [
    {
     "data": {
      "text/html": [
       "<style  type=\"text/css\" >\n",
       "    #T_fa1a2_ th {\n",
       "          font-size: 18px;\n",
       "    }    #T_fa1a2_ td {\n",
       "          font-size: 14px;\n",
       "    }#T_fa1a2_row0_col0,#T_fa1a2_row0_col1,#T_fa1a2_row1_col2{\n",
       "            background-color:  #7f2704;\n",
       "            color:  #f1f1f1;\n",
       "        }#T_fa1a2_row0_col2,#T_fa1a2_row1_col0,#T_fa1a2_row1_col1{\n",
       "            background-color:  #fff5eb;\n",
       "            color:  #000000;\n",
       "        }</style><table id=\"T_fa1a2_\" ><thead>    <tr>        <th class=\"blank level0\" ></th>        <th class=\"col_heading level0 col0\" >WT</th>        <th class=\"col_heading level0 col1\" >OE</th>        <th class=\"col_heading level0 col2\" >KO</th>    </tr>    <tr>        <th class=\"index_name level0\" > </th>        <th class=\"blank\" ></th>        <th class=\"blank\" ></th>        <th class=\"blank\" ></th>    </tr></thead><tbody>\n",
       "                <tr>\n",
       "                        <th id=\"T_fa1a2_level0_row0\" class=\"row_heading level0 row0\" >Caulonema</th>\n",
       "                        <td id=\"T_fa1a2_row0_col0\" class=\"data row0 col0\" >590</td>\n",
       "                        <td id=\"T_fa1a2_row0_col1\" class=\"data row0 col1\" >689</td>\n",
       "                        <td id=\"T_fa1a2_row0_col2\" class=\"data row0 col2\" >307</td>\n",
       "            </tr>\n",
       "            <tr>\n",
       "                        <th id=\"T_fa1a2_level0_row1\" class=\"row_heading level0 row1\" >Chloronema</th>\n",
       "                        <td id=\"T_fa1a2_row1_col0\" class=\"data row1 col0\" >398</td>\n",
       "                        <td id=\"T_fa1a2_row1_col1\" class=\"data row1 col1\" >209</td>\n",
       "                        <td id=\"T_fa1a2_row1_col2\" class=\"data row1 col2\" >610</td>\n",
       "            </tr>\n",
       "    </tbody></table>"
      ],
      "text/plain": [
       "<pandas.io.formats.style.Styler at 0x7fd26a6fffd0>"
      ]
     },
     "execution_count": 26,
     "metadata": {},
     "output_type": "execute_result"
    }
   ],
   "source": [
    "raw_data.style.background_gradient(cmap='Oranges', axis=0, text_color_threshold=0.4).set_table_styles(dfstyle)"
   ]
  },
  {
   "cell_type": "raw",
   "id": "f24b377b",
   "metadata": {},
   "source": []
  },
  {
   "cell_type": "code",
   "execution_count": 27,
   "id": "c5c27ac9",
   "metadata": {},
   "outputs": [
    {
     "data": {
      "text/html": [
       "<style  type=\"text/css\" >\n",
       "    #T_8ce30_ th {\n",
       "          font-size: 18px;\n",
       "    }    #T_8ce30_ td {\n",
       "          font-size: 14px;\n",
       "    }#T_8ce30_row0_col0{\n",
       "            background-color:  #db4a02;\n",
       "            color:  #f1f1f1;\n",
       "        }#T_8ce30_row0_col1,#T_8ce30_row1_col2{\n",
       "            background-color:  #7f2704;\n",
       "            color:  #f1f1f1;\n",
       "        }#T_8ce30_row0_col2,#T_8ce30_row1_col1{\n",
       "            background-color:  #fff5eb;\n",
       "            color:  #000000;\n",
       "        }#T_8ce30_row1_col0{\n",
       "            background-color:  #fd9547;\n",
       "            color:  #000000;\n",
       "        }</style><table id=\"T_8ce30_\" ><thead>    <tr>        <th class=\"blank level0\" ></th>        <th class=\"col_heading level0 col0\" >WT</th>        <th class=\"col_heading level0 col1\" >OE</th>        <th class=\"col_heading level0 col2\" >KO</th>    </tr>    <tr>        <th class=\"index_name level0\" > </th>        <th class=\"blank\" ></th>        <th class=\"blank\" ></th>        <th class=\"blank\" ></th>    </tr></thead><tbody>\n",
       "                <tr>\n",
       "                        <th id=\"T_8ce30_level0_row0\" class=\"row_heading level0 row0\" >Caulonema</th>\n",
       "                        <td id=\"T_8ce30_row0_col0\" class=\"data row0 col0\" >590</td>\n",
       "                        <td id=\"T_8ce30_row0_col1\" class=\"data row0 col1\" >689</td>\n",
       "                        <td id=\"T_8ce30_row0_col2\" class=\"data row0 col2\" >307</td>\n",
       "            </tr>\n",
       "            <tr>\n",
       "                        <th id=\"T_8ce30_level0_row1\" class=\"row_heading level0 row1\" >Chloronema</th>\n",
       "                        <td id=\"T_8ce30_row1_col0\" class=\"data row1 col0\" >398</td>\n",
       "                        <td id=\"T_8ce30_row1_col1\" class=\"data row1 col1\" >209</td>\n",
       "                        <td id=\"T_8ce30_row1_col2\" class=\"data row1 col2\" >610</td>\n",
       "            </tr>\n",
       "    </tbody></table>"
      ],
      "text/plain": [
       "<pandas.io.formats.style.Styler at 0x7fd26a7160d0>"
      ]
     },
     "execution_count": 27,
     "metadata": {},
     "output_type": "execute_result"
    }
   ],
   "source": [
    "raw_data.style.background_gradient(cmap='Oranges', axis=1, text_color_threshold=0.4).set_table_styles(dfstyle)"
   ]
  },
  {
   "cell_type": "raw",
   "id": "84d19d9e",
   "metadata": {},
   "source": []
  },
  {
   "cell_type": "code",
   "execution_count": 29,
   "id": "897ef320",
   "metadata": {},
   "outputs": [
    {
     "data": {
      "text/html": [
       "<style  type=\"text/css\" >\n",
       "    #T_a185d_ th {\n",
       "          font-size: 18px;\n",
       "    }    #T_a185d_ td {\n",
       "          font-size: 14px;\n",
       "    }#T_a185d_row0_col1,#T_a185d_row1_col2{\n",
       "            background-color:  Red;\n",
       "        }</style><table id=\"T_a185d_\" ><thead>    <tr>        <th class=\"blank level0\" ></th>        <th class=\"col_heading level0 col0\" >WT</th>        <th class=\"col_heading level0 col1\" >OE</th>        <th class=\"col_heading level0 col2\" >KO</th>    </tr>    <tr>        <th class=\"index_name level0\" > </th>        <th class=\"blank\" ></th>        <th class=\"blank\" ></th>        <th class=\"blank\" ></th>    </tr></thead><tbody>\n",
       "                <tr>\n",
       "                        <th id=\"T_a185d_level0_row0\" class=\"row_heading level0 row0\" >Caulonema</th>\n",
       "                        <td id=\"T_a185d_row0_col0\" class=\"data row0 col0\" >590</td>\n",
       "                        <td id=\"T_a185d_row0_col1\" class=\"data row0 col1\" >689</td>\n",
       "                        <td id=\"T_a185d_row0_col2\" class=\"data row0 col2\" >307</td>\n",
       "            </tr>\n",
       "            <tr>\n",
       "                        <th id=\"T_a185d_level0_row1\" class=\"row_heading level0 row1\" >Chloronema</th>\n",
       "                        <td id=\"T_a185d_row1_col0\" class=\"data row1 col0\" >398</td>\n",
       "                        <td id=\"T_a185d_row1_col1\" class=\"data row1 col1\" >209</td>\n",
       "                        <td id=\"T_a185d_row1_col2\" class=\"data row1 col2\" >610</td>\n",
       "            </tr>\n",
       "    </tbody></table>"
      ],
      "text/plain": [
       "<pandas.io.formats.style.Styler at 0x7fd26c72b4d0>"
      ]
     },
     "execution_count": 29,
     "metadata": {},
     "output_type": "execute_result"
    }
   ],
   "source": [
    "raw_data.style.highlight_max(color='Red', axis=1).set_table_styles(dfstyle)"
   ]
  },
  {
   "cell_type": "raw",
   "id": "a1c7670d",
   "metadata": {},
   "source": []
  },
  {
   "cell_type": "code",
   "execution_count": 30,
   "id": "b3159e08",
   "metadata": {},
   "outputs": [
    {
     "data": {
      "text/html": [
       "<style  type=\"text/css\" >\n",
       "    #T_c79b3_ th {\n",
       "          font-size: 18px;\n",
       "    }    #T_c79b3_ td {\n",
       "          font-size: 14px;\n",
       "    }#T_c79b3_row0_col2,#T_c79b3_row1_col1{\n",
       "            background-color:  Red;\n",
       "        }</style><table id=\"T_c79b3_\" ><thead>    <tr>        <th class=\"blank level0\" ></th>        <th class=\"col_heading level0 col0\" >WT</th>        <th class=\"col_heading level0 col1\" >OE</th>        <th class=\"col_heading level0 col2\" >KO</th>    </tr>    <tr>        <th class=\"index_name level0\" > </th>        <th class=\"blank\" ></th>        <th class=\"blank\" ></th>        <th class=\"blank\" ></th>    </tr></thead><tbody>\n",
       "                <tr>\n",
       "                        <th id=\"T_c79b3_level0_row0\" class=\"row_heading level0 row0\" >Caulonema</th>\n",
       "                        <td id=\"T_c79b3_row0_col0\" class=\"data row0 col0\" >590</td>\n",
       "                        <td id=\"T_c79b3_row0_col1\" class=\"data row0 col1\" >689</td>\n",
       "                        <td id=\"T_c79b3_row0_col2\" class=\"data row0 col2\" >307</td>\n",
       "            </tr>\n",
       "            <tr>\n",
       "                        <th id=\"T_c79b3_level0_row1\" class=\"row_heading level0 row1\" >Chloronema</th>\n",
       "                        <td id=\"T_c79b3_row1_col0\" class=\"data row1 col0\" >398</td>\n",
       "                        <td id=\"T_c79b3_row1_col1\" class=\"data row1 col1\" >209</td>\n",
       "                        <td id=\"T_c79b3_row1_col2\" class=\"data row1 col2\" >610</td>\n",
       "            </tr>\n",
       "    </tbody></table>"
      ],
      "text/plain": [
       "<pandas.io.formats.style.Styler at 0x7fd26c741690>"
      ]
     },
     "execution_count": 30,
     "metadata": {},
     "output_type": "execute_result"
    }
   ],
   "source": [
    "raw_data.style.highlight_min(color='Red', axis=1).set_table_styles(dfstyle)"
   ]
  },
  {
   "cell_type": "code",
   "execution_count": 36,
   "id": "4c582350",
   "metadata": {},
   "outputs": [
    {
     "data": {
      "text/html": [
       "<style  type=\"text/css\" >\n",
       "    #T_d5f07_ th {\n",
       "          font-size: 18px;\n",
       "    }    #T_d5f07_ td {\n",
       "          font-size: 14px;\n",
       "    }#T_d5f07_row0_col2,#T_d5f07_row1_col1{\n",
       "            background-color:  Green;\n",
       "        }</style><table id=\"T_d5f07_\" ><thead>    <tr>        <th class=\"blank level0\" ></th>        <th class=\"col_heading level0 col0\" >WT</th>        <th class=\"col_heading level0 col1\" >OE</th>        <th class=\"col_heading level0 col2\" >KO</th>    </tr>    <tr>        <th class=\"index_name level0\" > </th>        <th class=\"blank\" ></th>        <th class=\"blank\" ></th>        <th class=\"blank\" ></th>    </tr></thead><tbody>\n",
       "                <tr>\n",
       "                        <th id=\"T_d5f07_level0_row0\" class=\"row_heading level0 row0\" >Caulonema</th>\n",
       "                        <td id=\"T_d5f07_row0_col0\" class=\"data row0 col0\" >59000.0%</td>\n",
       "                        <td id=\"T_d5f07_row0_col1\" class=\"data row0 col1\" >68900.0%</td>\n",
       "                        <td id=\"T_d5f07_row0_col2\" class=\"data row0 col2\" >30700.0%</td>\n",
       "            </tr>\n",
       "            <tr>\n",
       "                        <th id=\"T_d5f07_level0_row1\" class=\"row_heading level0 row1\" >Chloronema</th>\n",
       "                        <td id=\"T_d5f07_row1_col0\" class=\"data row1 col0\" >39800.0%</td>\n",
       "                        <td id=\"T_d5f07_row1_col1\" class=\"data row1 col1\" >20900.0%</td>\n",
       "                        <td id=\"T_d5f07_row1_col2\" class=\"data row1 col2\" >61000.0%</td>\n",
       "            </tr>\n",
       "    </tbody></table>"
      ],
      "text/plain": [
       "<pandas.io.formats.style.Styler at 0x7fd26c797fd0>"
      ]
     },
     "execution_count": 36,
     "metadata": {},
     "output_type": "execute_result"
    }
   ],
   "source": [
    "raw_data.style.format(\"{:.1%}\").highlight_min(color='Green', axis=1).set_table_styles(dfstyle)"
   ]
  },
  {
   "cell_type": "code",
   "execution_count": null,
   "id": "7c7a6f7a",
   "metadata": {},
   "outputs": [],
   "source": [
    "df_styled = raw_data.style.background_gradient(cmap='Oranges', axis=0, text_color_threshold=0.4).set_table_styles(dfstyle)\n",
    "dfi.export(df_styled,\"./images/Ratio_table.jpeg\")"
   ]
  }
 ],
 "metadata": {
  "kernelspec": {
   "display_name": "Python 3 (ipykernel)",
   "language": "python",
   "name": "python3"
  },
  "language_info": {
   "codemirror_mode": {
    "name": "ipython",
    "version": 3
   },
   "file_extension": ".py",
   "mimetype": "text/x-python",
   "name": "python",
   "nbconvert_exporter": "python",
   "pygments_lexer": "ipython3",
   "version": "3.7.7"
  },
  "toc": {
   "base_numbering": 1,
   "nav_menu": {},
   "number_sections": true,
   "sideBar": true,
   "skip_h1_title": false,
   "title_cell": "Table of Contents",
   "title_sidebar": "Contents",
   "toc_cell": false,
   "toc_position": {},
   "toc_section_display": true,
   "toc_window_display": true
  }
 },
 "nbformat": 4,
 "nbformat_minor": 5
}
