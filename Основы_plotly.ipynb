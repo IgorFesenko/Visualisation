{
  "cells": [
    {
      "cell_type": "code",
      "execution_count": null,
      "id": "5d4bfa33",
      "metadata": {
        "id": "5d4bfa33"
      },
      "outputs": [],
      "source": [
        "# !pip install plotly\n",
        "# !pip install kaleido\n",
        "# !pip install pandas"
      ]
    },
    {
      "cell_type": "code",
      "execution_count": null,
      "id": "56a2490b-6bee-41c2-8906-fbe53425ecfa",
      "metadata": {
        "id": "56a2490b-6bee-41c2-8906-fbe53425ecfa"
      },
      "outputs": [],
      "source": [
        "import plotly.express as px\n",
        "import pandas as pd\n",
        "import random"
      ]
    },
    {
      "cell_type": "markdown",
      "id": "28c16779-1759-405b-816e-9e28ea909843",
      "metadata": {
        "id": "28c16779-1759-405b-816e-9e28ea909843"
      },
      "source": [
        "Scatter plot"
      ]
    },
    {
      "cell_type": "code",
      "execution_count": null,
      "id": "c8727d8d-f242-4ecc-8e77-baa4a743f467",
      "metadata": {
        "id": "c8727d8d-f242-4ecc-8e77-baa4a743f467"
      },
      "outputs": [],
      "source": [
        "x = [0, 1, 2, 3, 4]\n",
        "y = [0, 1 ,4 ,9, 16]\n",
        "fig = px.scatter(x=x, y=y, width=1200, height=600)\n",
        "fig.show()"
      ]
    },
    {
      "cell_type": "code",
      "execution_count": null,
      "id": "4950eed3-7d37-49e7-916d-f787358411a0",
      "metadata": {
        "id": "4950eed3-7d37-49e7-916d-f787358411a0"
      },
      "outputs": [],
      "source": [
        "with open('scatter.png', 'wb') as f:\n",
        "    f.write(fig.to_image('png'))"
      ]
    },
    {
      "cell_type": "markdown",
      "id": "54eb6ca7-7601-4693-bed1-7c33bf4b517f",
      "metadata": {
        "id": "54eb6ca7-7601-4693-bed1-7c33bf4b517f"
      },
      "source": [
        "Line Chart"
      ]
    },
    {
      "cell_type": "code",
      "execution_count": null,
      "id": "e389e07e-225e-4ba9-b905-5a834742c9a6",
      "metadata": {
        "id": "e389e07e-225e-4ba9-b905-5a834742c9a6"
      },
      "outputs": [],
      "source": [
        "x = [1, 2, 3, 4, 5, 6, 7, 8, 9]  # days\n",
        "y = [-5, -4, 0, 3, 5, 2, 5, 7, 9]\n",
        "fig = px.line(x=x, y=y, width=1200, height=600)\n",
        "fig.show()"
      ]
    },
    {
      "cell_type": "code",
      "execution_count": null,
      "id": "4098c4fe-6488-4a12-9b7a-f50a85b5d87a",
      "metadata": {
        "id": "4098c4fe-6488-4a12-9b7a-f50a85b5d87a"
      },
      "outputs": [],
      "source": [
        "with open('line.png', 'wb') as f:\n",
        "    f.write(fig.to_image('png'))"
      ]
    },
    {
      "cell_type": "markdown",
      "id": "61f88736-3abf-4e0a-bb34-ca609f0d6392",
      "metadata": {
        "id": "61f88736-3abf-4e0a-bb34-ca609f0d6392"
      },
      "source": [
        "Bar Chart"
      ]
    },
    {
      "cell_type": "code",
      "execution_count": null,
      "id": "09ebeb6d-49f6-41d4-b51e-55bb891dbd77",
      "metadata": {
        "id": "09ebeb6d-49f6-41d4-b51e-55bb891dbd77"
      },
      "outputs": [],
      "source": [
        "x = ['Category 1', 'Category 2', 'Category 3']\n",
        "y = [7, 2, 5]\n",
        "fig = px.bar(x=x, y=y, width=1200, height=600)\n",
        "fig.show()"
      ]
    },
    {
      "cell_type": "code",
      "execution_count": null,
      "id": "daf232fe-0aa1-4543-882e-f42a746b5f73",
      "metadata": {
        "id": "daf232fe-0aa1-4543-882e-f42a746b5f73"
      },
      "outputs": [],
      "source": [
        "with open('bar.png', 'wb') as f:\n",
        "    f.write(fig.to_image('png'))"
      ]
    },
    {
      "cell_type": "markdown",
      "id": "7ed5bd7e-1ded-43f5-9559-b7f3a97587c2",
      "metadata": {
        "id": "7ed5bd7e-1ded-43f5-9559-b7f3a97587c2"
      },
      "source": [
        "Histogram"
      ]
    },
    {
      "cell_type": "code",
      "execution_count": null,
      "id": "64fce50f-621d-4ea6-9396-34688ee4a94f",
      "metadata": {
        "id": "64fce50f-621d-4ea6-9396-34688ee4a94f"
      },
      "outputs": [],
      "source": [
        "x = [random.randint(0, 10) + random.random() for i in range(100)] + [20]  # в данном примере x - непрерывная переменная\n",
        "fig = px.histogram(x, width=1200, height=600)\n",
        "fig.show()"
      ]
    },
    {
      "cell_type": "code",
      "execution_count": null,
      "id": "f4d61a15-13a0-45c7-b113-12bb3f247ba6",
      "metadata": {
        "id": "f4d61a15-13a0-45c7-b113-12bb3f247ba6"
      },
      "outputs": [],
      "source": [
        "with open('histogram.png', 'wb') as f:\n",
        "    f.write(fig.to_image('png'))"
      ]
    },
    {
      "cell_type": "markdown",
      "id": "c2d031f0-1520-41a6-b923-d3b5aa874548",
      "metadata": {
        "id": "c2d031f0-1520-41a6-b923-d3b5aa874548"
      },
      "source": [
        "Boxplot"
      ]
    },
    {
      "cell_type": "code",
      "execution_count": null,
      "id": "a172ec8e-c10d-4f74-92e4-fd0a67b60f3d",
      "metadata": {
        "id": "a172ec8e-c10d-4f74-92e4-fd0a67b60f3d"
      },
      "outputs": [],
      "source": [
        "x = [random.randint(0, 10) + random.random() for i in range(100)] + [20]\n",
        "fig = px.box(x, width=1200, height=600)\n",
        "fig.show()"
      ]
    },
    {
      "cell_type": "code",
      "execution_count": null,
      "id": "21fdea24-345f-4918-bda2-4607c88c91d7",
      "metadata": {
        "id": "21fdea24-345f-4918-bda2-4607c88c91d7"
      },
      "outputs": [],
      "source": [
        "with open('boxplot.png', 'wb') as f:\n",
        "    f.write(fig.to_image('png'))"
      ]
    },
    {
      "cell_type": "markdown",
      "id": "f60e508c-da02-4740-be5d-22b62b69633d",
      "metadata": {
        "id": "f60e508c-da02-4740-be5d-22b62b69633d"
      },
      "source": [
        "Heatmap"
      ]
    },
    {
      "cell_type": "code",
      "execution_count": null,
      "id": "bafc3661-e1aa-46e0-b0a3-06ce6afd1b8c",
      "metadata": {
        "id": "bafc3661-e1aa-46e0-b0a3-06ce6afd1b8c"
      },
      "outputs": [],
      "source": [
        "df = pd.DataFrame([\n",
        "    [4, 20, 30], \n",
        "    [20, 1, 60],\n",
        "    [30, 60, 4],\n",
        "])\n",
        "fig = px.imshow(abs(df.corr()), width=1200, height=600, color_continuous_scale='Blues')\n",
        "fig.show()"
      ]
    },
    {
      "cell_type": "code",
      "execution_count": null,
      "id": "00103235-e35e-4c32-acec-d759a890976c",
      "metadata": {
        "id": "00103235-e35e-4c32-acec-d759a890976c"
      },
      "outputs": [],
      "source": [
        "with open('heatmap.png', 'wb') as f:\n",
        "    f.write(fig.to_image('png'))"
      ]
    },
    {
      "cell_type": "code",
      "execution_count": null,
      "id": "6af99346",
      "metadata": {
        "id": "6af99346"
      },
      "outputs": [],
      "source": []
    },
    {
      "cell_type": "code",
      "execution_count": null,
      "id": "71854b3d",
      "metadata": {
        "id": "71854b3d"
      },
      "outputs": [],
      "source": []
    }
  ],
  "metadata": {
    "kernelspec": {
      "display_name": "Python 3 (ipykernel)",
      "language": "python",
      "name": "python3"
    },
    "language_info": {
      "codemirror_mode": {
        "name": "ipython",
        "version": 3
      },
      "file_extension": ".py",
      "mimetype": "text/x-python",
      "name": "python",
      "nbconvert_exporter": "python",
      "pygments_lexer": "ipython3",
      "version": "3.9.7"
    },
    "colab": {
      "provenance": []
    }
  },
  "nbformat": 4,
  "nbformat_minor": 5
}